{
 "cells": [
  {
   "cell_type": "code",
   "execution_count": 1,
   "metadata": {},
   "outputs": [],
   "source": [
    "#import libraries\n",
    "import pandas as pd\n",
    "import numpy as np\n",
    "import matplotlib.pyplot as plt\n",
    "from sklearn.model_selection import train_test_split\n",
    "from sklearn.linear_model import LinearRegression\n",
    "from sklearn.metrics import r2_score\n",
    "from sklearn.preprocessing import MultiLabelBinarizer,LabelEncoder,OneHotEncoder,StandardScaler \n",
    "%matplotlib inline\n",
    "import seaborn as sns\n"
   ]
  },
  {
   "cell_type": "code",
   "execution_count": 2,
   "metadata": {},
   "outputs": [],
   "source": [
    "#read the file\n",
    "df = pd.read_csv('listings.csv')"
   ]
  },
  {
   "cell_type": "code",
   "execution_count": 3,
   "metadata": {},
   "outputs": [
    {
     "data": {
      "text/html": [
       "<div>\n",
       "<style scoped>\n",
       "    .dataframe tbody tr th:only-of-type {\n",
       "        vertical-align: middle;\n",
       "    }\n",
       "\n",
       "    .dataframe tbody tr th {\n",
       "        vertical-align: top;\n",
       "    }\n",
       "\n",
       "    .dataframe thead th {\n",
       "        text-align: right;\n",
       "    }\n",
       "</style>\n",
       "<table border=\"1\" class=\"dataframe\">\n",
       "  <thead>\n",
       "    <tr style=\"text-align: right;\">\n",
       "      <th></th>\n",
       "      <th>id</th>\n",
       "      <th>listing_url</th>\n",
       "      <th>scrape_id</th>\n",
       "      <th>last_scraped</th>\n",
       "      <th>name</th>\n",
       "      <th>summary</th>\n",
       "      <th>space</th>\n",
       "      <th>description</th>\n",
       "      <th>experiences_offered</th>\n",
       "      <th>neighborhood_overview</th>\n",
       "      <th>...</th>\n",
       "      <th>review_scores_value</th>\n",
       "      <th>requires_license</th>\n",
       "      <th>license</th>\n",
       "      <th>jurisdiction_names</th>\n",
       "      <th>instant_bookable</th>\n",
       "      <th>cancellation_policy</th>\n",
       "      <th>require_guest_profile_picture</th>\n",
       "      <th>require_guest_phone_verification</th>\n",
       "      <th>calculated_host_listings_count</th>\n",
       "      <th>reviews_per_month</th>\n",
       "    </tr>\n",
       "  </thead>\n",
       "  <tbody>\n",
       "    <tr>\n",
       "      <th>0</th>\n",
       "      <td>241032</td>\n",
       "      <td>https://www.airbnb.com/rooms/241032</td>\n",
       "      <td>20160104002432</td>\n",
       "      <td>2016-01-04</td>\n",
       "      <td>Stylish Queen Anne Apartment</td>\n",
       "      <td>NaN</td>\n",
       "      <td>Make your self at home in this charming one-be...</td>\n",
       "      <td>Make your self at home in this charming one-be...</td>\n",
       "      <td>none</td>\n",
       "      <td>NaN</td>\n",
       "      <td>...</td>\n",
       "      <td>10.0</td>\n",
       "      <td>f</td>\n",
       "      <td>NaN</td>\n",
       "      <td>WASHINGTON</td>\n",
       "      <td>f</td>\n",
       "      <td>moderate</td>\n",
       "      <td>f</td>\n",
       "      <td>f</td>\n",
       "      <td>2</td>\n",
       "      <td>4.07</td>\n",
       "    </tr>\n",
       "    <tr>\n",
       "      <th>1</th>\n",
       "      <td>953595</td>\n",
       "      <td>https://www.airbnb.com/rooms/953595</td>\n",
       "      <td>20160104002432</td>\n",
       "      <td>2016-01-04</td>\n",
       "      <td>Bright &amp; Airy Queen Anne Apartment</td>\n",
       "      <td>Chemically sensitive? We've removed the irrita...</td>\n",
       "      <td>Beautiful, hypoallergenic apartment in an extr...</td>\n",
       "      <td>Chemically sensitive? We've removed the irrita...</td>\n",
       "      <td>none</td>\n",
       "      <td>Queen Anne is a wonderful, truly functional vi...</td>\n",
       "      <td>...</td>\n",
       "      <td>10.0</td>\n",
       "      <td>f</td>\n",
       "      <td>NaN</td>\n",
       "      <td>WASHINGTON</td>\n",
       "      <td>f</td>\n",
       "      <td>strict</td>\n",
       "      <td>t</td>\n",
       "      <td>t</td>\n",
       "      <td>6</td>\n",
       "      <td>1.48</td>\n",
       "    </tr>\n",
       "    <tr>\n",
       "      <th>2</th>\n",
       "      <td>3308979</td>\n",
       "      <td>https://www.airbnb.com/rooms/3308979</td>\n",
       "      <td>20160104002432</td>\n",
       "      <td>2016-01-04</td>\n",
       "      <td>New Modern House-Amazing water view</td>\n",
       "      <td>New modern house built in 2013.  Spectacular s...</td>\n",
       "      <td>Our house is modern, light and fresh with a wa...</td>\n",
       "      <td>New modern house built in 2013.  Spectacular s...</td>\n",
       "      <td>none</td>\n",
       "      <td>Upper Queen Anne is a charming neighborhood fu...</td>\n",
       "      <td>...</td>\n",
       "      <td>10.0</td>\n",
       "      <td>f</td>\n",
       "      <td>NaN</td>\n",
       "      <td>WASHINGTON</td>\n",
       "      <td>f</td>\n",
       "      <td>strict</td>\n",
       "      <td>f</td>\n",
       "      <td>f</td>\n",
       "      <td>2</td>\n",
       "      <td>1.15</td>\n",
       "    </tr>\n",
       "    <tr>\n",
       "      <th>3</th>\n",
       "      <td>7421966</td>\n",
       "      <td>https://www.airbnb.com/rooms/7421966</td>\n",
       "      <td>20160104002432</td>\n",
       "      <td>2016-01-04</td>\n",
       "      <td>Queen Anne Chateau</td>\n",
       "      <td>A charming apartment that sits atop Queen Anne...</td>\n",
       "      <td>NaN</td>\n",
       "      <td>A charming apartment that sits atop Queen Anne...</td>\n",
       "      <td>none</td>\n",
       "      <td>NaN</td>\n",
       "      <td>...</td>\n",
       "      <td>NaN</td>\n",
       "      <td>f</td>\n",
       "      <td>NaN</td>\n",
       "      <td>WASHINGTON</td>\n",
       "      <td>f</td>\n",
       "      <td>flexible</td>\n",
       "      <td>f</td>\n",
       "      <td>f</td>\n",
       "      <td>1</td>\n",
       "      <td>NaN</td>\n",
       "    </tr>\n",
       "    <tr>\n",
       "      <th>4</th>\n",
       "      <td>278830</td>\n",
       "      <td>https://www.airbnb.com/rooms/278830</td>\n",
       "      <td>20160104002432</td>\n",
       "      <td>2016-01-04</td>\n",
       "      <td>Charming craftsman 3 bdm house</td>\n",
       "      <td>Cozy family craftman house in beautiful neighb...</td>\n",
       "      <td>Cozy family craftman house in beautiful neighb...</td>\n",
       "      <td>Cozy family craftman house in beautiful neighb...</td>\n",
       "      <td>none</td>\n",
       "      <td>We are in the beautiful neighborhood of Queen ...</td>\n",
       "      <td>...</td>\n",
       "      <td>9.0</td>\n",
       "      <td>f</td>\n",
       "      <td>NaN</td>\n",
       "      <td>WASHINGTON</td>\n",
       "      <td>f</td>\n",
       "      <td>strict</td>\n",
       "      <td>f</td>\n",
       "      <td>f</td>\n",
       "      <td>1</td>\n",
       "      <td>0.89</td>\n",
       "    </tr>\n",
       "  </tbody>\n",
       "</table>\n",
       "<p>5 rows × 92 columns</p>\n",
       "</div>"
      ],
      "text/plain": [
       "        id                           listing_url       scrape_id last_scraped  \\\n",
       "0   241032   https://www.airbnb.com/rooms/241032  20160104002432   2016-01-04   \n",
       "1   953595   https://www.airbnb.com/rooms/953595  20160104002432   2016-01-04   \n",
       "2  3308979  https://www.airbnb.com/rooms/3308979  20160104002432   2016-01-04   \n",
       "3  7421966  https://www.airbnb.com/rooms/7421966  20160104002432   2016-01-04   \n",
       "4   278830   https://www.airbnb.com/rooms/278830  20160104002432   2016-01-04   \n",
       "\n",
       "                                  name  \\\n",
       "0         Stylish Queen Anne Apartment   \n",
       "1   Bright & Airy Queen Anne Apartment   \n",
       "2  New Modern House-Amazing water view   \n",
       "3                   Queen Anne Chateau   \n",
       "4       Charming craftsman 3 bdm house   \n",
       "\n",
       "                                             summary  \\\n",
       "0                                                NaN   \n",
       "1  Chemically sensitive? We've removed the irrita...   \n",
       "2  New modern house built in 2013.  Spectacular s...   \n",
       "3  A charming apartment that sits atop Queen Anne...   \n",
       "4  Cozy family craftman house in beautiful neighb...   \n",
       "\n",
       "                                               space  \\\n",
       "0  Make your self at home in this charming one-be...   \n",
       "1  Beautiful, hypoallergenic apartment in an extr...   \n",
       "2  Our house is modern, light and fresh with a wa...   \n",
       "3                                                NaN   \n",
       "4  Cozy family craftman house in beautiful neighb...   \n",
       "\n",
       "                                         description experiences_offered  \\\n",
       "0  Make your self at home in this charming one-be...                none   \n",
       "1  Chemically sensitive? We've removed the irrita...                none   \n",
       "2  New modern house built in 2013.  Spectacular s...                none   \n",
       "3  A charming apartment that sits atop Queen Anne...                none   \n",
       "4  Cozy family craftman house in beautiful neighb...                none   \n",
       "\n",
       "                               neighborhood_overview  ... review_scores_value  \\\n",
       "0                                                NaN  ...                10.0   \n",
       "1  Queen Anne is a wonderful, truly functional vi...  ...                10.0   \n",
       "2  Upper Queen Anne is a charming neighborhood fu...  ...                10.0   \n",
       "3                                                NaN  ...                 NaN   \n",
       "4  We are in the beautiful neighborhood of Queen ...  ...                 9.0   \n",
       "\n",
       "  requires_license license jurisdiction_names instant_bookable  \\\n",
       "0                f     NaN         WASHINGTON                f   \n",
       "1                f     NaN         WASHINGTON                f   \n",
       "2                f     NaN         WASHINGTON                f   \n",
       "3                f     NaN         WASHINGTON                f   \n",
       "4                f     NaN         WASHINGTON                f   \n",
       "\n",
       "  cancellation_policy  require_guest_profile_picture  \\\n",
       "0            moderate                              f   \n",
       "1              strict                              t   \n",
       "2              strict                              f   \n",
       "3            flexible                              f   \n",
       "4              strict                              f   \n",
       "\n",
       "  require_guest_phone_verification calculated_host_listings_count  \\\n",
       "0                                f                              2   \n",
       "1                                t                              6   \n",
       "2                                f                              2   \n",
       "3                                f                              1   \n",
       "4                                f                              1   \n",
       "\n",
       "  reviews_per_month  \n",
       "0              4.07  \n",
       "1              1.48  \n",
       "2              1.15  \n",
       "3               NaN  \n",
       "4              0.89  \n",
       "\n",
       "[5 rows x 92 columns]"
      ]
     },
     "execution_count": 3,
     "metadata": {},
     "output_type": "execute_result"
    }
   ],
   "source": [
    "#see top 5 rows\n",
    "df.head()"
   ]
  },
  {
   "cell_type": "code",
   "execution_count": 4,
   "metadata": {},
   "outputs": [
    {
     "data": {
      "text/plain": [
       "(3818, 92)"
      ]
     },
     "execution_count": 4,
     "metadata": {},
     "output_type": "execute_result"
    }
   ],
   "source": [
    "#check its size\n",
    "df.shape"
   ]
  },
  {
   "cell_type": "code",
   "execution_count": 5,
   "metadata": {},
   "outputs": [
    {
     "data": {
      "text/html": [
       "<div>\n",
       "<style scoped>\n",
       "    .dataframe tbody tr th:only-of-type {\n",
       "        vertical-align: middle;\n",
       "    }\n",
       "\n",
       "    .dataframe tbody tr th {\n",
       "        vertical-align: top;\n",
       "    }\n",
       "\n",
       "    .dataframe thead th {\n",
       "        text-align: right;\n",
       "    }\n",
       "</style>\n",
       "<table border=\"1\" class=\"dataframe\">\n",
       "  <thead>\n",
       "    <tr style=\"text-align: right;\">\n",
       "      <th></th>\n",
       "      <th>id</th>\n",
       "      <th>scrape_id</th>\n",
       "      <th>host_id</th>\n",
       "      <th>host_listings_count</th>\n",
       "      <th>host_total_listings_count</th>\n",
       "      <th>latitude</th>\n",
       "      <th>longitude</th>\n",
       "      <th>accommodates</th>\n",
       "      <th>bathrooms</th>\n",
       "      <th>bedrooms</th>\n",
       "      <th>...</th>\n",
       "      <th>review_scores_rating</th>\n",
       "      <th>review_scores_accuracy</th>\n",
       "      <th>review_scores_cleanliness</th>\n",
       "      <th>review_scores_checkin</th>\n",
       "      <th>review_scores_communication</th>\n",
       "      <th>review_scores_location</th>\n",
       "      <th>review_scores_value</th>\n",
       "      <th>license</th>\n",
       "      <th>calculated_host_listings_count</th>\n",
       "      <th>reviews_per_month</th>\n",
       "    </tr>\n",
       "  </thead>\n",
       "  <tbody>\n",
       "    <tr>\n",
       "      <th>count</th>\n",
       "      <td>3.818000e+03</td>\n",
       "      <td>3.818000e+03</td>\n",
       "      <td>3.818000e+03</td>\n",
       "      <td>3816.000000</td>\n",
       "      <td>3816.000000</td>\n",
       "      <td>3818.000000</td>\n",
       "      <td>3818.000000</td>\n",
       "      <td>3818.000000</td>\n",
       "      <td>3802.000000</td>\n",
       "      <td>3812.000000</td>\n",
       "      <td>...</td>\n",
       "      <td>3171.000000</td>\n",
       "      <td>3160.000000</td>\n",
       "      <td>3165.000000</td>\n",
       "      <td>3160.000000</td>\n",
       "      <td>3167.000000</td>\n",
       "      <td>3163.000000</td>\n",
       "      <td>3162.000000</td>\n",
       "      <td>0.0</td>\n",
       "      <td>3818.000000</td>\n",
       "      <td>3191.000000</td>\n",
       "    </tr>\n",
       "    <tr>\n",
       "      <th>mean</th>\n",
       "      <td>5.550111e+06</td>\n",
       "      <td>2.016010e+13</td>\n",
       "      <td>1.578556e+07</td>\n",
       "      <td>7.157757</td>\n",
       "      <td>7.157757</td>\n",
       "      <td>47.628961</td>\n",
       "      <td>-122.333103</td>\n",
       "      <td>3.349398</td>\n",
       "      <td>1.259469</td>\n",
       "      <td>1.307712</td>\n",
       "      <td>...</td>\n",
       "      <td>94.539262</td>\n",
       "      <td>9.636392</td>\n",
       "      <td>9.556398</td>\n",
       "      <td>9.786709</td>\n",
       "      <td>9.809599</td>\n",
       "      <td>9.608916</td>\n",
       "      <td>9.452245</td>\n",
       "      <td>NaN</td>\n",
       "      <td>2.946307</td>\n",
       "      <td>2.078919</td>\n",
       "    </tr>\n",
       "    <tr>\n",
       "      <th>std</th>\n",
       "      <td>2.962660e+06</td>\n",
       "      <td>0.000000e+00</td>\n",
       "      <td>1.458382e+07</td>\n",
       "      <td>28.628149</td>\n",
       "      <td>28.628149</td>\n",
       "      <td>0.043052</td>\n",
       "      <td>0.031745</td>\n",
       "      <td>1.977599</td>\n",
       "      <td>0.590369</td>\n",
       "      <td>0.883395</td>\n",
       "      <td>...</td>\n",
       "      <td>6.606083</td>\n",
       "      <td>0.698031</td>\n",
       "      <td>0.797274</td>\n",
       "      <td>0.595499</td>\n",
       "      <td>0.568211</td>\n",
       "      <td>0.629053</td>\n",
       "      <td>0.750259</td>\n",
       "      <td>NaN</td>\n",
       "      <td>5.893029</td>\n",
       "      <td>1.822348</td>\n",
       "    </tr>\n",
       "    <tr>\n",
       "      <th>min</th>\n",
       "      <td>3.335000e+03</td>\n",
       "      <td>2.016010e+13</td>\n",
       "      <td>4.193000e+03</td>\n",
       "      <td>1.000000</td>\n",
       "      <td>1.000000</td>\n",
       "      <td>47.505088</td>\n",
       "      <td>-122.417219</td>\n",
       "      <td>1.000000</td>\n",
       "      <td>0.000000</td>\n",
       "      <td>0.000000</td>\n",
       "      <td>...</td>\n",
       "      <td>20.000000</td>\n",
       "      <td>2.000000</td>\n",
       "      <td>3.000000</td>\n",
       "      <td>2.000000</td>\n",
       "      <td>2.000000</td>\n",
       "      <td>4.000000</td>\n",
       "      <td>2.000000</td>\n",
       "      <td>NaN</td>\n",
       "      <td>1.000000</td>\n",
       "      <td>0.020000</td>\n",
       "    </tr>\n",
       "    <tr>\n",
       "      <th>25%</th>\n",
       "      <td>3.258256e+06</td>\n",
       "      <td>2.016010e+13</td>\n",
       "      <td>3.275204e+06</td>\n",
       "      <td>1.000000</td>\n",
       "      <td>1.000000</td>\n",
       "      <td>47.609418</td>\n",
       "      <td>-122.354320</td>\n",
       "      <td>2.000000</td>\n",
       "      <td>1.000000</td>\n",
       "      <td>1.000000</td>\n",
       "      <td>...</td>\n",
       "      <td>93.000000</td>\n",
       "      <td>9.000000</td>\n",
       "      <td>9.000000</td>\n",
       "      <td>10.000000</td>\n",
       "      <td>10.000000</td>\n",
       "      <td>9.000000</td>\n",
       "      <td>9.000000</td>\n",
       "      <td>NaN</td>\n",
       "      <td>1.000000</td>\n",
       "      <td>0.695000</td>\n",
       "    </tr>\n",
       "    <tr>\n",
       "      <th>50%</th>\n",
       "      <td>6.118244e+06</td>\n",
       "      <td>2.016010e+13</td>\n",
       "      <td>1.055814e+07</td>\n",
       "      <td>1.000000</td>\n",
       "      <td>1.000000</td>\n",
       "      <td>47.623601</td>\n",
       "      <td>-122.328874</td>\n",
       "      <td>3.000000</td>\n",
       "      <td>1.000000</td>\n",
       "      <td>1.000000</td>\n",
       "      <td>...</td>\n",
       "      <td>96.000000</td>\n",
       "      <td>10.000000</td>\n",
       "      <td>10.000000</td>\n",
       "      <td>10.000000</td>\n",
       "      <td>10.000000</td>\n",
       "      <td>10.000000</td>\n",
       "      <td>10.000000</td>\n",
       "      <td>NaN</td>\n",
       "      <td>1.000000</td>\n",
       "      <td>1.540000</td>\n",
       "    </tr>\n",
       "    <tr>\n",
       "      <th>75%</th>\n",
       "      <td>8.035127e+06</td>\n",
       "      <td>2.016010e+13</td>\n",
       "      <td>2.590309e+07</td>\n",
       "      <td>3.000000</td>\n",
       "      <td>3.000000</td>\n",
       "      <td>47.662694</td>\n",
       "      <td>-122.310800</td>\n",
       "      <td>4.000000</td>\n",
       "      <td>1.000000</td>\n",
       "      <td>2.000000</td>\n",
       "      <td>...</td>\n",
       "      <td>99.000000</td>\n",
       "      <td>10.000000</td>\n",
       "      <td>10.000000</td>\n",
       "      <td>10.000000</td>\n",
       "      <td>10.000000</td>\n",
       "      <td>10.000000</td>\n",
       "      <td>10.000000</td>\n",
       "      <td>NaN</td>\n",
       "      <td>2.000000</td>\n",
       "      <td>3.000000</td>\n",
       "    </tr>\n",
       "    <tr>\n",
       "      <th>max</th>\n",
       "      <td>1.034016e+07</td>\n",
       "      <td>2.016010e+13</td>\n",
       "      <td>5.320861e+07</td>\n",
       "      <td>502.000000</td>\n",
       "      <td>502.000000</td>\n",
       "      <td>47.733358</td>\n",
       "      <td>-122.240607</td>\n",
       "      <td>16.000000</td>\n",
       "      <td>8.000000</td>\n",
       "      <td>7.000000</td>\n",
       "      <td>...</td>\n",
       "      <td>100.000000</td>\n",
       "      <td>10.000000</td>\n",
       "      <td>10.000000</td>\n",
       "      <td>10.000000</td>\n",
       "      <td>10.000000</td>\n",
       "      <td>10.000000</td>\n",
       "      <td>10.000000</td>\n",
       "      <td>NaN</td>\n",
       "      <td>37.000000</td>\n",
       "      <td>12.150000</td>\n",
       "    </tr>\n",
       "  </tbody>\n",
       "</table>\n",
       "<p>8 rows × 30 columns</p>\n",
       "</div>"
      ],
      "text/plain": [
       "                 id     scrape_id       host_id  host_listings_count  \\\n",
       "count  3.818000e+03  3.818000e+03  3.818000e+03          3816.000000   \n",
       "mean   5.550111e+06  2.016010e+13  1.578556e+07             7.157757   \n",
       "std    2.962660e+06  0.000000e+00  1.458382e+07            28.628149   \n",
       "min    3.335000e+03  2.016010e+13  4.193000e+03             1.000000   \n",
       "25%    3.258256e+06  2.016010e+13  3.275204e+06             1.000000   \n",
       "50%    6.118244e+06  2.016010e+13  1.055814e+07             1.000000   \n",
       "75%    8.035127e+06  2.016010e+13  2.590309e+07             3.000000   \n",
       "max    1.034016e+07  2.016010e+13  5.320861e+07           502.000000   \n",
       "\n",
       "       host_total_listings_count     latitude    longitude  accommodates  \\\n",
       "count                3816.000000  3818.000000  3818.000000   3818.000000   \n",
       "mean                    7.157757    47.628961  -122.333103      3.349398   \n",
       "std                    28.628149     0.043052     0.031745      1.977599   \n",
       "min                     1.000000    47.505088  -122.417219      1.000000   \n",
       "25%                     1.000000    47.609418  -122.354320      2.000000   \n",
       "50%                     1.000000    47.623601  -122.328874      3.000000   \n",
       "75%                     3.000000    47.662694  -122.310800      4.000000   \n",
       "max                   502.000000    47.733358  -122.240607     16.000000   \n",
       "\n",
       "         bathrooms     bedrooms  ...  review_scores_rating  \\\n",
       "count  3802.000000  3812.000000  ...           3171.000000   \n",
       "mean      1.259469     1.307712  ...             94.539262   \n",
       "std       0.590369     0.883395  ...              6.606083   \n",
       "min       0.000000     0.000000  ...             20.000000   \n",
       "25%       1.000000     1.000000  ...             93.000000   \n",
       "50%       1.000000     1.000000  ...             96.000000   \n",
       "75%       1.000000     2.000000  ...             99.000000   \n",
       "max       8.000000     7.000000  ...            100.000000   \n",
       "\n",
       "       review_scores_accuracy  review_scores_cleanliness  \\\n",
       "count             3160.000000                3165.000000   \n",
       "mean                 9.636392                   9.556398   \n",
       "std                  0.698031                   0.797274   \n",
       "min                  2.000000                   3.000000   \n",
       "25%                  9.000000                   9.000000   \n",
       "50%                 10.000000                  10.000000   \n",
       "75%                 10.000000                  10.000000   \n",
       "max                 10.000000                  10.000000   \n",
       "\n",
       "       review_scores_checkin  review_scores_communication  \\\n",
       "count            3160.000000                  3167.000000   \n",
       "mean                9.786709                     9.809599   \n",
       "std                 0.595499                     0.568211   \n",
       "min                 2.000000                     2.000000   \n",
       "25%                10.000000                    10.000000   \n",
       "50%                10.000000                    10.000000   \n",
       "75%                10.000000                    10.000000   \n",
       "max                10.000000                    10.000000   \n",
       "\n",
       "       review_scores_location  review_scores_value  license  \\\n",
       "count             3163.000000          3162.000000      0.0   \n",
       "mean                 9.608916             9.452245      NaN   \n",
       "std                  0.629053             0.750259      NaN   \n",
       "min                  4.000000             2.000000      NaN   \n",
       "25%                  9.000000             9.000000      NaN   \n",
       "50%                 10.000000            10.000000      NaN   \n",
       "75%                 10.000000            10.000000      NaN   \n",
       "max                 10.000000            10.000000      NaN   \n",
       "\n",
       "       calculated_host_listings_count  reviews_per_month  \n",
       "count                     3818.000000        3191.000000  \n",
       "mean                         2.946307           2.078919  \n",
       "std                          5.893029           1.822348  \n",
       "min                          1.000000           0.020000  \n",
       "25%                          1.000000           0.695000  \n",
       "50%                          1.000000           1.540000  \n",
       "75%                          2.000000           3.000000  \n",
       "max                         37.000000          12.150000  \n",
       "\n",
       "[8 rows x 30 columns]"
      ]
     },
     "execution_count": 5,
     "metadata": {},
     "output_type": "execute_result"
    }
   ],
   "source": [
    "#see some statistics of the data\n",
    "df.describe()"
   ]
  },
  {
   "cell_type": "code",
   "execution_count": 6,
   "metadata": {},
   "outputs": [
    {
     "data": {
      "text/plain": [
       "id                                    int64\n",
       "listing_url                          object\n",
       "scrape_id                             int64\n",
       "last_scraped                         object\n",
       "name                                 object\n",
       "                                     ...   \n",
       "cancellation_policy                  object\n",
       "require_guest_profile_picture        object\n",
       "require_guest_phone_verification     object\n",
       "calculated_host_listings_count        int64\n",
       "reviews_per_month                   float64\n",
       "Length: 92, dtype: object"
      ]
     },
     "execution_count": 6,
     "metadata": {},
     "output_type": "execute_result"
    }
   ],
   "source": [
    "#check data types\n",
    "df.dtypes"
   ]
  },
  {
   "cell_type": "code",
   "execution_count": 7,
   "metadata": {},
   "outputs": [
    {
     "data": {
      "text/plain": [
       "Index(['id', 'listing_url', 'scrape_id', 'last_scraped', 'name', 'summary',\n",
       "       'space', 'description', 'experiences_offered', 'neighborhood_overview',\n",
       "       'notes', 'transit', 'thumbnail_url', 'medium_url', 'picture_url',\n",
       "       'xl_picture_url', 'host_id', 'host_url', 'host_name', 'host_since',\n",
       "       'host_location', 'host_about', 'host_response_time',\n",
       "       'host_response_rate', 'host_acceptance_rate', 'host_is_superhost',\n",
       "       'host_thumbnail_url', 'host_picture_url', 'host_neighbourhood',\n",
       "       'host_listings_count', 'host_total_listings_count',\n",
       "       'host_verifications', 'host_has_profile_pic', 'host_identity_verified',\n",
       "       'street', 'neighbourhood', 'neighbourhood_cleansed',\n",
       "       'neighbourhood_group_cleansed', 'city', 'state', 'zipcode', 'market',\n",
       "       'smart_location', 'country_code', 'country', 'latitude', 'longitude',\n",
       "       'is_location_exact', 'property_type', 'room_type', 'accommodates',\n",
       "       'bathrooms', 'bedrooms', 'beds', 'bed_type', 'amenities', 'square_feet',\n",
       "       'price', 'weekly_price', 'monthly_price', 'security_deposit',\n",
       "       'cleaning_fee', 'guests_included', 'extra_people', 'minimum_nights',\n",
       "       'maximum_nights', 'calendar_updated', 'has_availability',\n",
       "       'availability_30', 'availability_60', 'availability_90',\n",
       "       'availability_365', 'calendar_last_scraped', 'number_of_reviews',\n",
       "       'first_review', 'last_review', 'review_scores_rating',\n",
       "       'review_scores_accuracy', 'review_scores_cleanliness',\n",
       "       'review_scores_checkin', 'review_scores_communication',\n",
       "       'review_scores_location', 'review_scores_value', 'requires_license',\n",
       "       'license', 'jurisdiction_names', 'instant_bookable',\n",
       "       'cancellation_policy', 'require_guest_profile_picture',\n",
       "       'require_guest_phone_verification', 'calculated_host_listings_count',\n",
       "       'reviews_per_month'],\n",
       "      dtype='object')"
      ]
     },
     "execution_count": 7,
     "metadata": {},
     "output_type": "execute_result"
    }
   ],
   "source": [
    "#see its columns\n",
    "df.columns"
   ]
  },
  {
   "cell_type": "code",
   "execution_count": 8,
   "metadata": {},
   "outputs": [
    {
     "data": {
      "text/plain": [
       "Index(['id', 'scrape_id', 'host_id', 'host_listings_count',\n",
       "       'host_total_listings_count', 'latitude', 'longitude', 'accommodates',\n",
       "       'bathrooms', 'bedrooms', 'beds', 'square_feet', 'guests_included',\n",
       "       'minimum_nights', 'maximum_nights', 'availability_30',\n",
       "       'availability_60', 'availability_90', 'availability_365',\n",
       "       'number_of_reviews', 'review_scores_rating', 'review_scores_accuracy',\n",
       "       'review_scores_cleanliness', 'review_scores_checkin',\n",
       "       'review_scores_communication', 'review_scores_location',\n",
       "       'review_scores_value', 'license', 'calculated_host_listings_count',\n",
       "       'reviews_per_month'],\n",
       "      dtype='object')"
      ]
     },
     "execution_count": 8,
     "metadata": {},
     "output_type": "execute_result"
    }
   ],
   "source": [
    "#identify numeric columns\n",
    "df.select_dtypes(include=['float', 'int64']).columns"
   ]
  },
  {
   "cell_type": "code",
   "execution_count": 9,
   "metadata": {},
   "outputs": [],
   "source": [
    "#create a new dataframe with features we are interested in\n",
    "new_df = df[[\"id\", \"room_type\", \"bathrooms\", \"bedrooms\", \"amenities\", \"beds\", \"bed_type\", \"price\", \"square_feet\",\"guests_included\", \"minimum_nights\", \"number_of_reviews\"]]"
   ]
  },
  {
   "cell_type": "code",
   "execution_count": 10,
   "metadata": {},
   "outputs": [
    {
     "data": {
      "text/plain": [
       "id                      0\n",
       "room_type               0\n",
       "bathrooms              16\n",
       "bedrooms                6\n",
       "amenities               0\n",
       "beds                    1\n",
       "bed_type                0\n",
       "price                   0\n",
       "square_feet          3721\n",
       "guests_included         0\n",
       "minimum_nights          0\n",
       "number_of_reviews       0\n",
       "dtype: int64"
      ]
     },
     "execution_count": 10,
     "metadata": {},
     "output_type": "execute_result"
    }
   ],
   "source": [
    "#check null values\n",
    "new_df.isnull().sum()"
   ]
  },
  {
   "cell_type": "markdown",
   "metadata": {},
   "source": [
    "Tthere are so many null cells in square_feet columns therefore I exclude it from my data table."
   ]
  },
  {
   "cell_type": "code",
   "execution_count": 11,
   "metadata": {},
   "outputs": [],
   "source": [
    "#drop square_feet\n",
    "new_df = new_df.drop(columns = ['square_feet'])"
   ]
  },
  {
   "cell_type": "code",
   "execution_count": 12,
   "metadata": {},
   "outputs": [
    {
     "data": {
      "text/plain": [
       "id                   0\n",
       "room_type            0\n",
       "bathrooms            0\n",
       "bedrooms             0\n",
       "amenities            0\n",
       "beds                 0\n",
       "bed_type             0\n",
       "price                0\n",
       "guests_included      0\n",
       "minimum_nights       0\n",
       "number_of_reviews    0\n",
       "dtype: int64"
      ]
     },
     "execution_count": 12,
     "metadata": {},
     "output_type": "execute_result"
    }
   ],
   "source": [
    "#replace null values in columns bathrooms, bedrooms, beds with their means.\n",
    "new_df['bathrooms'] = new_df['bathrooms'].fillna(new_df['bathrooms'].mean())\n",
    "new_df['bedrooms'] = new_df['bedrooms'].fillna(new_df['bedrooms'].mean())\n",
    "new_df['beds'] = new_df['beds'].fillna(new_df['beds'].mean())\n",
    "#check whether they are dropped\n",
    "new_df.isnull().sum()"
   ]
  },
  {
   "cell_type": "code",
   "execution_count": 13,
   "metadata": {},
   "outputs": [],
   "source": [
    "#remove $ signs and commas from values in price columns\n",
    "new_df['price'] = new_df['price'].str.replace('$', '')\n",
    "new_df['price'] = new_df['price'].str.replace(',', '')"
   ]
  },
  {
   "cell_type": "code",
   "execution_count": 14,
   "metadata": {},
   "outputs": [],
   "source": [
    "#Changing data type from string to float.\n",
    "new_df['price'] = new_df['price'].astype(float)"
   ]
  },
  {
   "cell_type": "markdown",
   "metadata": {},
   "source": [
    "### Q1. What is the landlords' preferences for lenght of stay?"
   ]
  },
  {
   "cell_type": "code",
   "execution_count": 15,
   "metadata": {},
   "outputs": [
    {
     "data": {
      "text/plain": [
       "minimum_nights\n",
       "1       1610\n",
       "2       1423\n",
       "3        480\n",
       "4        122\n",
       "5         67\n",
       "6         16\n",
       "7         50\n",
       "8          1\n",
       "10         5\n",
       "11         1\n",
       "12         1\n",
       "13         2\n",
       "14        16\n",
       "15         1\n",
       "20        11\n",
       "21         1\n",
       "26         1\n",
       "28         1\n",
       "29         1\n",
       "30         6\n",
       "31         1\n",
       "1000       1\n",
       "Name: id, dtype: int64"
      ]
     },
     "execution_count": 15,
     "metadata": {},
     "output_type": "execute_result"
    }
   ],
   "source": [
    "#see the distribution of minimum nights\n",
    "new_df.groupby('minimum_nights')['id'].count()"
   ]
  },
  {
   "cell_type": "markdown",
   "metadata": {},
   "source": [
    "Here we see there is an outlier which has value 1000. This is most probably a typing error. I prefer to remove it from my analysis since it will make my visuals messy."
   ]
  },
  {
   "cell_type": "code",
   "execution_count": 16,
   "metadata": {},
   "outputs": [
    {
     "data": {
      "text/plain": [
       "minimum_nights\n",
       "1     1610\n",
       "2     1423\n",
       "3      480\n",
       "4      122\n",
       "5       67\n",
       "6       16\n",
       "7       50\n",
       "8        1\n",
       "10       5\n",
       "11       1\n",
       "12       1\n",
       "13       2\n",
       "14      16\n",
       "15       1\n",
       "20      11\n",
       "21       1\n",
       "26       1\n",
       "28       1\n",
       "29       1\n",
       "30       6\n",
       "31       1\n",
       "Name: id, dtype: int64"
      ]
     },
     "execution_count": 16,
     "metadata": {},
     "output_type": "execute_result"
    }
   ],
   "source": [
    "#drop the outlier\n",
    "new_df.drop(new_df.loc[new_df['minimum_nights']==1000].index, inplace=True)\n",
    "new_df.groupby('minimum_nights')['id'].count()"
   ]
  },
  {
   "cell_type": "code",
   "execution_count": 17,
   "metadata": {},
   "outputs": [],
   "source": [
    "#set bins for our chart\n",
    "bins = new_df['minimum_nights'].unique()\n",
    "bins.sort()"
   ]
  },
  {
   "cell_type": "code",
   "execution_count": 18,
   "metadata": {},
   "outputs": [
    {
     "data": {
      "image/png": "[encoded data removed]",
      "text/plain": [
       "<Figure size 432x288 with 1 Axes>"
      ]
     },
     "metadata": {
      "needs_background": "light"
     },
     "output_type": "display_data"
    }
   ],
   "source": [
    "#print the chart\n",
    "plt.hist(new_df['minimum_nights'], bins=bins, align='mid', color = 'g')\n",
    "plt.xlabel('Number of Nights')\n",
    "plt.ylabel('Frequency')\n",
    "plt.title('Lenght of Stay', fontsize=15)\n",
    "\n",
    "plt.grid(True)\n",
    "plt.show();"
   ]
  },
  {
   "cell_type": "markdown",
   "metadata": {},
   "source": [
    "Referring to the graph above we can see it is obviously right-skewed which means landlords accept guests for a short period of days."
   ]
  },
  {
   "cell_type": "markdown",
   "metadata": {},
   "source": [
    "### Q2. What are the most common amenities?"
   ]
  },
  {
   "cell_type": "code",
   "execution_count": 19,
   "metadata": {},
   "outputs": [
    {
     "data": {
      "text/plain": [
       "0    {TV,\"Cable TV\",Internet,\"Wireless Internet\",\"A...\n",
       "1    {TV,Internet,\"Wireless Internet\",Kitchen,\"Free...\n",
       "2    {TV,\"Cable TV\",Internet,\"Wireless Internet\",\"A...\n",
       "3    {Internet,\"Wireless Internet\",Kitchen,\"Indoor ...\n",
       "4    {TV,\"Cable TV\",Internet,\"Wireless Internet\",Ki...\n",
       "Name: amenities, dtype: object"
      ]
     },
     "execution_count": 19,
     "metadata": {},
     "output_type": "execute_result"
    }
   ],
   "source": [
    "#see some examples in amenities columns\n",
    "new_df['amenities'].head()"
   ]
  },
  {
   "cell_type": "code",
   "execution_count": 20,
   "metadata": {},
   "outputs": [],
   "source": [
    "#change format of amenities list while replacing related characters\n",
    "amt = new_df['amenities'].apply(lambda x: [amenity.replace('\"', \"\").replace(\"{\", \"\").replace(\"}\", \"\") \n",
    "                                               for amenity in x.split(\",\")])"
   ]
  },
  {
   "cell_type": "code",
   "execution_count": 21,
   "metadata": {},
   "outputs": [
    {
     "data": {
      "text/plain": [
       "0    [TV, Cable TV, Internet, Wireless Internet, Ai...\n",
       "1    [TV, Internet, Wireless Internet, Kitchen, Fre...\n",
       "2    [TV, Cable TV, Internet, Wireless Internet, Ai...\n",
       "3    [Internet, Wireless Internet, Kitchen, Indoor ...\n",
       "4    [TV, Cable TV, Internet, Wireless Internet, Ki...\n",
       "Name: amenities, dtype: object"
      ]
     },
     "execution_count": 21,
     "metadata": {},
     "output_type": "execute_result"
    }
   ],
   "source": [
    "amt.head()"
   ]
  },
  {
   "cell_type": "code",
   "execution_count": 22,
   "metadata": {},
   "outputs": [],
   "source": [
    "#set MultiLabelBinarizer to separate amenities\n",
    "mlb = MultiLabelBinarizer()\n",
    "label_amt = pd.DataFrame(mlb.fit_transform(amt), columns=mlb.classes_, index=amt.index)"
   ]
  },
  {
   "cell_type": "code",
   "execution_count": 23,
   "metadata": {},
   "outputs": [],
   "source": [
    "#amenities are summed and sorted to define what is the common/popular amenities in Seatle Airbnb dataset.\n",
    "amt_count=label_amt.sum().sort_values(ascending=False)"
   ]
  },
  {
   "cell_type": "code",
   "execution_count": 24,
   "metadata": {},
   "outputs": [],
   "source": [
    "#save values into dataframe\n",
    "d = {'Amenity': amt_count.index, 'Count': amt_count.values}\n",
    "df_amt_count = pd.DataFrame(data=d)\n",
    "df_top_5 = df_amt_count.head()"
   ]
  },
  {
   "cell_type": "code",
   "execution_count": 25,
   "metadata": {},
   "outputs": [
    {
     "data": {
      "text/plain": [
       "(array([0, 1, 2, 3, 4]), <a list of 5 Text xticklabel objects>)"
      ]
     },
     "execution_count": 25,
     "metadata": {},
     "output_type": "execute_result"
    },
    {
     "data": {
      "image/png": "[encoded data removed]",
      "text/plain": [
       "<Figure size 720x504 with 1 Axes>"
      ]
     },
     "metadata": {},
     "output_type": "display_data"
    }
   ],
   "source": [
    "#create the bar chart\n",
    "sns.set(font_scale=1.2)\n",
    "df_top_5.plot(x='Amenity', y='Count', kind='bar', figsize=(10, 7), rot=0, color='blue')\n",
    "plt.xlabel(\"Amenity\", labelpad=14)\n",
    "plt.ylabel(\"Count\", labelpad=14)\n",
    "plt.title(\"Top 5 Popular/Common Amenities\", fontsize='x-large')\n",
    "plt.xticks(rotation=45)"
   ]
  },
  {
   "cell_type": "markdown",
   "metadata": {},
   "source": [
    "### Q3. What factors do affect price of proprty most?"
   ]
  },
  {
   "cell_type": "markdown",
   "metadata": {},
   "source": [
    "In order to understand this I will build a machine learning algorithm. To build our algorithm I need to make sure all variables in my dataset must be in numerical values, thereore I should change categorical variables into numerical values."
   ]
  },
  {
   "cell_type": "code",
   "execution_count": 26,
   "metadata": {},
   "outputs": [
    {
     "data": {
      "text/plain": [
       "id                     int64\n",
       "room_type             object\n",
       "bathrooms            float64\n",
       "bedrooms             float64\n",
       "amenities             object\n",
       "beds                 float64\n",
       "bed_type              object\n",
       "price                float64\n",
       "guests_included        int64\n",
       "minimum_nights         int64\n",
       "number_of_reviews      int64\n",
       "dtype: object"
      ]
     },
     "execution_count": 26,
     "metadata": {},
     "output_type": "execute_result"
    }
   ],
   "source": [
    "#Lets check if we have any categorical variables in our dataset.\n",
    "new_df.dtypes"
   ]
  },
  {
   "cell_type": "markdown",
   "metadata": {},
   "source": [
    "Here we see that we have two categorical variables; room_type and bed_type."
   ]
  },
  {
   "cell_type": "code",
   "execution_count": 27,
   "metadata": {},
   "outputs": [],
   "source": [
    "#create categorical variables\n",
    "new_df['room_type'] = pd.get_dummies(new_df['room_type'])\n",
    "new_df['bed_type'] = pd.get_dummies(new_df['bed_type'])"
   ]
  },
  {
   "cell_type": "code",
   "execution_count": 28,
   "metadata": {},
   "outputs": [
    {
     "data": {
      "text/plain": [
       "0    3790\n",
       "1      27\n",
       "Name: bed_type, dtype: int64"
      ]
     },
     "execution_count": 28,
     "metadata": {},
     "output_type": "execute_result"
    }
   ],
   "source": [
    "#check values in bed type\n",
    "new_df['bed_type'].value_counts()"
   ]
  },
  {
   "cell_type": "code",
   "execution_count": 29,
   "metadata": {},
   "outputs": [
    {
     "data": {
      "text/plain": [
       "1    2540\n",
       "0    1277\n",
       "Name: room_type, dtype: int64"
      ]
     },
     "execution_count": 29,
     "metadata": {},
     "output_type": "execute_result"
    }
   ],
   "source": [
    "#check values in rommo type\n",
    "new_df['room_type'].value_counts()"
   ]
  },
  {
   "cell_type": "markdown",
   "metadata": {},
   "source": [
    "Obviously there is no much diversity in bed_type therefore we can exclude it from our model as it cannot make a significant effect on our model."
   ]
  },
  {
   "cell_type": "code",
   "execution_count": 30,
   "metadata": {},
   "outputs": [
    {
     "data": {
      "text/html": [
       "<div>\n",
       "<style scoped>\n",
       "    .dataframe tbody tr th:only-of-type {\n",
       "        vertical-align: middle;\n",
       "    }\n",
       "\n",
       "    .dataframe tbody tr th {\n",
       "        vertical-align: top;\n",
       "    }\n",
       "\n",
       "    .dataframe thead th {\n",
       "        text-align: right;\n",
       "    }\n",
       "</style>\n",
       "<table border=\"1\" class=\"dataframe\">\n",
       "  <thead>\n",
       "    <tr style=\"text-align: right;\">\n",
       "      <th></th>\n",
       "      <th>id</th>\n",
       "      <th>room_type</th>\n",
       "      <th>bathrooms</th>\n",
       "      <th>bedrooms</th>\n",
       "      <th>amenities</th>\n",
       "      <th>beds</th>\n",
       "      <th>price</th>\n",
       "      <th>guests_included</th>\n",
       "      <th>minimum_nights</th>\n",
       "      <th>number_of_reviews</th>\n",
       "    </tr>\n",
       "  </thead>\n",
       "  <tbody>\n",
       "    <tr>\n",
       "      <th>0</th>\n",
       "      <td>241032</td>\n",
       "      <td>1</td>\n",
       "      <td>1.0</td>\n",
       "      <td>1.0</td>\n",
       "      <td>{TV,\"Cable TV\",Internet,\"Wireless Internet\",\"A...</td>\n",
       "      <td>1.0</td>\n",
       "      <td>85.0</td>\n",
       "      <td>2</td>\n",
       "      <td>1</td>\n",
       "      <td>207</td>\n",
       "    </tr>\n",
       "    <tr>\n",
       "      <th>1</th>\n",
       "      <td>953595</td>\n",
       "      <td>1</td>\n",
       "      <td>1.0</td>\n",
       "      <td>1.0</td>\n",
       "      <td>{TV,Internet,\"Wireless Internet\",Kitchen,\"Free...</td>\n",
       "      <td>1.0</td>\n",
       "      <td>150.0</td>\n",
       "      <td>1</td>\n",
       "      <td>2</td>\n",
       "      <td>43</td>\n",
       "    </tr>\n",
       "    <tr>\n",
       "      <th>2</th>\n",
       "      <td>3308979</td>\n",
       "      <td>1</td>\n",
       "      <td>4.5</td>\n",
       "      <td>5.0</td>\n",
       "      <td>{TV,\"Cable TV\",Internet,\"Wireless Internet\",\"A...</td>\n",
       "      <td>7.0</td>\n",
       "      <td>975.0</td>\n",
       "      <td>10</td>\n",
       "      <td>4</td>\n",
       "      <td>20</td>\n",
       "    </tr>\n",
       "    <tr>\n",
       "      <th>3</th>\n",
       "      <td>7421966</td>\n",
       "      <td>1</td>\n",
       "      <td>1.0</td>\n",
       "      <td>0.0</td>\n",
       "      <td>{Internet,\"Wireless Internet\",Kitchen,\"Indoor ...</td>\n",
       "      <td>2.0</td>\n",
       "      <td>100.0</td>\n",
       "      <td>1</td>\n",
       "      <td>1</td>\n",
       "      <td>0</td>\n",
       "    </tr>\n",
       "    <tr>\n",
       "      <th>4</th>\n",
       "      <td>278830</td>\n",
       "      <td>1</td>\n",
       "      <td>2.0</td>\n",
       "      <td>3.0</td>\n",
       "      <td>{TV,\"Cable TV\",Internet,\"Wireless Internet\",Ki...</td>\n",
       "      <td>3.0</td>\n",
       "      <td>450.0</td>\n",
       "      <td>6</td>\n",
       "      <td>1</td>\n",
       "      <td>38</td>\n",
       "    </tr>\n",
       "    <tr>\n",
       "      <th>...</th>\n",
       "      <td>...</td>\n",
       "      <td>...</td>\n",
       "      <td>...</td>\n",
       "      <td>...</td>\n",
       "      <td>...</td>\n",
       "      <td>...</td>\n",
       "      <td>...</td>\n",
       "      <td>...</td>\n",
       "      <td>...</td>\n",
       "      <td>...</td>\n",
       "    </tr>\n",
       "    <tr>\n",
       "      <th>3813</th>\n",
       "      <td>8101950</td>\n",
       "      <td>1</td>\n",
       "      <td>2.0</td>\n",
       "      <td>3.0</td>\n",
       "      <td>{TV,\"Cable TV\",Internet,\"Wireless Internet\",\"A...</td>\n",
       "      <td>3.0</td>\n",
       "      <td>359.0</td>\n",
       "      <td>1</td>\n",
       "      <td>3</td>\n",
       "      <td>1</td>\n",
       "    </tr>\n",
       "    <tr>\n",
       "      <th>3814</th>\n",
       "      <td>8902327</td>\n",
       "      <td>1</td>\n",
       "      <td>1.0</td>\n",
       "      <td>1.0</td>\n",
       "      <td>{TV,\"Cable TV\",Internet,\"Wireless Internet\",Ki...</td>\n",
       "      <td>2.0</td>\n",
       "      <td>79.0</td>\n",
       "      <td>3</td>\n",
       "      <td>2</td>\n",
       "      <td>2</td>\n",
       "    </tr>\n",
       "    <tr>\n",
       "      <th>3815</th>\n",
       "      <td>10267360</td>\n",
       "      <td>1</td>\n",
       "      <td>1.0</td>\n",
       "      <td>1.0</td>\n",
       "      <td>{\"Cable TV\",\"Wireless Internet\",Kitchen,\"Free ...</td>\n",
       "      <td>1.0</td>\n",
       "      <td>93.0</td>\n",
       "      <td>2</td>\n",
       "      <td>1</td>\n",
       "      <td>0</td>\n",
       "    </tr>\n",
       "    <tr>\n",
       "      <th>3816</th>\n",
       "      <td>9604740</td>\n",
       "      <td>1</td>\n",
       "      <td>1.0</td>\n",
       "      <td>0.0</td>\n",
       "      <td>{TV,\"Wireless Internet\",Kitchen,\"Free Parking ...</td>\n",
       "      <td>1.0</td>\n",
       "      <td>99.0</td>\n",
       "      <td>1</td>\n",
       "      <td>3</td>\n",
       "      <td>0</td>\n",
       "    </tr>\n",
       "    <tr>\n",
       "      <th>3817</th>\n",
       "      <td>10208623</td>\n",
       "      <td>1</td>\n",
       "      <td>1.5</td>\n",
       "      <td>2.0</td>\n",
       "      <td>{TV,\"Cable TV\",Internet,\"Wireless Internet\",Ki...</td>\n",
       "      <td>1.0</td>\n",
       "      <td>87.0</td>\n",
       "      <td>1</td>\n",
       "      <td>1</td>\n",
       "      <td>0</td>\n",
       "    </tr>\n",
       "  </tbody>\n",
       "</table>\n",
       "<p>3817 rows × 10 columns</p>\n",
       "</div>"
      ],
      "text/plain": [
       "            id  room_type  bathrooms  bedrooms  \\\n",
       "0       241032          1        1.0       1.0   \n",
       "1       953595          1        1.0       1.0   \n",
       "2      3308979          1        4.5       5.0   \n",
       "3      7421966          1        1.0       0.0   \n",
       "4       278830          1        2.0       3.0   \n",
       "...        ...        ...        ...       ...   \n",
       "3813   8101950          1        2.0       3.0   \n",
       "3814   8902327          1        1.0       1.0   \n",
       "3815  10267360          1        1.0       1.0   \n",
       "3816   9604740          1        1.0       0.0   \n",
       "3817  10208623          1        1.5       2.0   \n",
       "\n",
       "                                              amenities  beds  price  \\\n",
       "0     {TV,\"Cable TV\",Internet,\"Wireless Internet\",\"A...   1.0   85.0   \n",
       "1     {TV,Internet,\"Wireless Internet\",Kitchen,\"Free...   1.0  150.0   \n",
       "2     {TV,\"Cable TV\",Internet,\"Wireless Internet\",\"A...   7.0  975.0   \n",
       "3     {Internet,\"Wireless Internet\",Kitchen,\"Indoor ...   2.0  100.0   \n",
       "4     {TV,\"Cable TV\",Internet,\"Wireless Internet\",Ki...   3.0  450.0   \n",
       "...                                                 ...   ...    ...   \n",
       "3813  {TV,\"Cable TV\",Internet,\"Wireless Internet\",\"A...   3.0  359.0   \n",
       "3814  {TV,\"Cable TV\",Internet,\"Wireless Internet\",Ki...   2.0   79.0   \n",
       "3815  {\"Cable TV\",\"Wireless Internet\",Kitchen,\"Free ...   1.0   93.0   \n",
       "3816  {TV,\"Wireless Internet\",Kitchen,\"Free Parking ...   1.0   99.0   \n",
       "3817  {TV,\"Cable TV\",Internet,\"Wireless Internet\",Ki...   1.0   87.0   \n",
       "\n",
       "      guests_included  minimum_nights  number_of_reviews  \n",
       "0                   2               1                207  \n",
       "1                   1               2                 43  \n",
       "2                  10               4                 20  \n",
       "3                   1               1                  0  \n",
       "4                   6               1                 38  \n",
       "...               ...             ...                ...  \n",
       "3813                1               3                  1  \n",
       "3814                3               2                  2  \n",
       "3815                2               1                  0  \n",
       "3816                1               3                  0  \n",
       "3817                1               1                  0  \n",
       "\n",
       "[3817 rows x 10 columns]"
      ]
     },
     "execution_count": 30,
     "metadata": {},
     "output_type": "execute_result"
    }
   ],
   "source": [
    "#drop bed type\n",
    "new_df.drop('bed_type', axis=1)"
   ]
  },
  {
   "cell_type": "code",
   "execution_count": 31,
   "metadata": {},
   "outputs": [
    {
     "data": {
      "text/plain": [
       "id                     int64\n",
       "room_type              uint8\n",
       "bathrooms            float64\n",
       "bedrooms             float64\n",
       "amenities             object\n",
       "beds                 float64\n",
       "bed_type               uint8\n",
       "price                float64\n",
       "guests_included        int64\n",
       "minimum_nights         int64\n",
       "number_of_reviews      int64\n",
       "dtype: object"
      ]
     },
     "execution_count": 31,
     "metadata": {},
     "output_type": "execute_result"
    }
   ],
   "source": [
    "#check data types for ML algorithm\n",
    "new_df.dtypes"
   ]
  },
  {
   "cell_type": "code",
   "execution_count": 32,
   "metadata": {},
   "outputs": [],
   "source": [
    "#drop amanities as it is in object type and cannot be used in ML algorithm\n",
    "new_df.drop('amenities', axis=1, inplace=True)"
   ]
  },
  {
   "cell_type": "code",
   "execution_count": 33,
   "metadata": {},
   "outputs": [],
   "source": [
    "#set X and y columns\n",
    "y = new_df['price']\n",
    "X = new_df.drop('price', axis=1)\n",
    "\n",
    "X_train, X_test, y_train, y_test = train_test_split(X, y, test_size=.3, random_state=42)"
   ]
  },
  {
   "cell_type": "code",
   "execution_count": 34,
   "metadata": {},
   "outputs": [],
   "source": [
    "#initiate and fit the model\n",
    "lm_model = LinearRegression(normalize=True)\n",
    "lm_model.fit(X_train, y_train) \n",
    "\n",
    "#predict for both train and test data\n",
    "y_test_preds = lm_model.predict(X_test)\n",
    "y_train_preds = lm_model.predict(X_train)"
   ]
  },
  {
   "cell_type": "code",
   "execution_count": 35,
   "metadata": {},
   "outputs": [],
   "source": [
    "#calculate success of our model\n",
    "test_score = r2_score(y_test, y_test_preds)\n",
    "train_score = r2_score(y_train, y_train_preds)"
   ]
  },
  {
   "cell_type": "code",
   "execution_count": 36,
   "metadata": {},
   "outputs": [
    {
     "data": {
      "text/plain": [
       "(0.5406384551108453, 0.5140272813168463)"
      ]
     },
     "execution_count": 36,
     "metadata": {},
     "output_type": "execute_result"
    }
   ],
   "source": [
    "test_score, train_score"
   ]
  },
  {
   "cell_type": "code",
   "execution_count": 37,
   "metadata": {},
   "outputs": [
    {
     "data": {
      "image/png": "[encoded data removed]",
      "text/plain": [
       "<Figure size 360x576 with 2 Axes>"
      ]
     },
     "metadata": {},
     "output_type": "display_data"
    }
   ],
   "source": [
    "#draw heatmap to see correlation of variables with price\n",
    "new_df.corr()[['price']].sort_values(by='price', ascending=False)\n",
    "plt.figure(figsize=(5, 8))\n",
    "heatmap = sns.heatmap(new_df.corr()[['price']].sort_values(by='price', ascending=False), vmin=-1, vmax=1, annot=True, cmap='BrBG')\n",
    "heatmap.set_title('Features Correlating with Price', fontdict={'fontsize':18}, pad=16);"
   ]
  },
  {
   "cell_type": "markdown",
   "metadata": {},
   "source": [
    "Obviously number of bedrooms is the most strongest effect on price. Number of bathrooms and room type are also other factors affecting price most. Surprisingly, number of reviews does not have a significant effect on price."
   ]
  }
 ],
 "metadata": {
  "kernelspec": {
   "display_name": "Python 3",
   "language": "python",
   "name": "python3"
  },
  "language_info": {
   "codemirror_mode": {
    "name": "ipython",
    "version": 3
   },
   "file_extension": ".py",
   "mimetype": "text/x-python",
   "name": "python",
   "nbconvert_exporter": "python",
   "pygments_lexer": "ipython3",
   "version": "3.7.6"
  }
 },
 "nbformat": 4,
 "nbformat_minor": 4
}
